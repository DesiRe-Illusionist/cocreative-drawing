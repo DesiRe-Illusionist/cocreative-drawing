{
 "metadata": {
  "language_info": {
   "codemirror_mode": {
    "name": "ipython",
    "version": 3
   },
   "file_extension": ".py",
   "mimetype": "text/x-python",
   "name": "python",
   "nbconvert_exporter": "python",
   "pygments_lexer": "ipython3",
   "version": "3.8.5"
  },
  "orig_nbformat": 2,
  "kernelspec": {
   "name": "python385jvsc74a57bd0fff84fbe70ea17c2d11c3a9e915762dbf6ab6fa8b67c4eeb773eaef42d0e0269",
   "display_name": "Python 3.8.5 64-bit"
  }
 },
 "nbformat": 4,
 "nbformat_minor": 2,
 "cells": [
  {
   "cell_type": "code",
   "execution_count": 89,
   "metadata": {},
   "outputs": [],
   "source": [
    "import numpy as np"
   ]
  },
  {
   "cell_type": "code",
   "execution_count": 90,
   "metadata": {},
   "outputs": [],
   "source": [
    "coord = [[[304.0133779264214, 255.35117056856186],[309.03010033444815, 255.35117056856186], [321.0702341137124, 256.3545150501672], [332.10702341137124, 257.3578595317726], [345.1505016722408, 257.3578595317726], [351.17056856187287, 257.3578595317726], [356.18729096989966, 257.3578595317726], [358.19397993311037, 257.3578595317726], [360.2006688963211, 256.3545150501672], [360.2006688963211, 253.34448160535115], [360.2006688963211, 246.3210702341137], [360.2006688963211, 237.29096989966555], [358.19397993311037, 226.25418060200667], [355.1839464882943, 218.22742474916387], [349.1638795986622, 211.2040133779264], [344.1471571906354, 205.1839464882943], [336.12040133779266, 201.1705685618729], [331.10367892976586, 200.16722408026754], [326.0869565217391, 200.16722408026754], [322.0735785953177, 200.16722408026754], [318.0602006688963, 203.1772575250836], [316.0535117056856, 209.19732441471572], [315.05016722408027, 218.22742474916387], [313.04347826086956, 246.3210702341137], [313.04347826086956, 273.4113712374582], [313.04347826086956, 304.51505016722405], [313.04347826086956, 325.58528428093643], [313.04347826086956, 353.67892976588627], [311.03678929765886, 373.7458193979933], [307.02341137123744, 385.7859531772575], [303.01003344481603, 395.81939799331104], [294.9832775919732, 403.8461538461538], [284.94983277591973, 410.8695652173913], [270.9030100334448, 415.88628762541805], [255.85284280936455, 418.8963210702341], [241.80602006688963, 418.8963210702341], [229.76588628762542, 418.8963210702341], [219.7324414715719, 413.87959866220734], [213.7123745819398, 409.86622073578593], [205.68561872909697, 401.8394648829431], [202.67558528428094, 395.81939799331104], [201.6722408026756, 390.80267558528425], [200.66889632107024, 386.78929765886284], [200.66889632107024, 381.7725752508361], [202.67558528428094, 377.7591973244147], [208.69565217391303, 374.74916387959865], [215.7190635451505, 371.7391304347826], [224.74916387959865, 370.73578595317724], [230.76923076923077, 370.73578595317724], [235.7859531772575, 370.73578595317724], [238.79598662207357, 370.73578595317724], [239.79933110367892, 370.73578595317724]]]"
   ]
  },
  {
   "source": [
    "## Converting coordinates to stroke3"
   ],
   "cell_type": "markdown",
   "metadata": {}
  },
  {
   "cell_type": "code",
   "execution_count": 91,
   "metadata": {},
   "outputs": [
    {
     "output_type": "display_data",
     "data": {
      "text/plain": "<IPython.core.display.SVG object>",
      "image/svg+xml": "<svg xmlns=\"http://www.w3.org/2000/svg\" xmlns:ev=\"http://www.w3.org/2001/xml-events\" xmlns:xlink=\"http://www.w3.org/1999/xlink\" baseProfile=\"full\" height=\"374.5401337792641\" version=\"1.1\" width=\"350.0836120401338\"><defs/><rect fill=\"white\" height=\"374.5401337792641\" width=\"350.0836120401338\" x=\"0\" y=\"0\"/><path d=\"M125.0418060200669,137.27006688963206 m126.67224080267559,106.39632107023411 l2.090301003344468,0.0 5.016722408026766,0.41806020066889715 l4.598662207357869,0.41806020066889715 5.434782608695645,0.0 l2.508361204013365,0.0 2.0903010033444858,0.0 l0.8361204013377943,0.0 0.8361204013377943,-0.41806020066889715 l0.0,-1.2541806020066915 0.0,-2.92642140468228 l0.0,-3.7625418060200566 -0.8361204013377943,-4.598662207357869 l-1.2541806020066915,-3.3444816053511595 -2.508361204013365,-2.92642140468228 l-2.0903010033445035,-2.508361204013383 -3.3444816053511417,-1.6722408026755886 l-2.0903010033445035,-0.41806020066889715 -2.090301003344468,0.0 l-1.6722408026755886,0.0 -1.6722408026755886,1.2541806020066915 l-0.8361204013377943,2.508361204013383 -0.41806020066889715,3.7625418060200744 l-0.8361204013377943,11.705685618729085 0.0,11.287625418060205 l0.0,12.959866220735776 0.0,8.779264214046822 l0.0,11.705685618729103 -0.8361204013377943,8.361204013377925 l-1.6722408026755886,5.016722408026748 -1.6722408026755886,4.1806020066889715 l-3.3444816053511772,3.3444816053511772 -4.180602006688936,2.92642140468228 l-5.85284280936456,2.0903010033444858 -6.2709030100334395,1.254180602006656 l-5.852842809364542,0.0 -5.016722408026766,0.0 l-4.1806020066889715,-2.0903010033444502 -2.508361204013365,-1.6722408026755886 l-3.3444816053511772,-3.3444816053511772 -1.2541806020066737,-2.508361204013383 l-0.41806020066889715,-2.0903010033444858 -0.41806020066889715,-1.6722408026755886 l0.0,-2.090301003344468 0.8361204013377943,-1.6722408026755886 l2.508361204013365,-1.2541806020066915 2.92642140468228,-1.2541806020066737 l3.7625418060200566,-0.4180602006689149 2.508361204013383,0.0 l2.0903010033444858,0.0 1.2541806020066915,0.0 l0.41806020066889715,0.0 \" fill=\"none\" stroke=\"black\" stroke-width=\"1\"/></svg>"
     },
     "metadata": {}
    }
   ],
   "source": [
    "from utils import draw_strokes as draw_strokes\n",
    "\n",
    "def coords_to_stroke3(coords):\n",
    "    out = []\n",
    "    for line in coords:\n",
    "        for i,point in enumerate(line):\n",
    "            p =  [float(x)/12 for x in point]\n",
    "            if i == (len(line)-1):\n",
    "                p.append(1.0)\n",
    "            else:\n",
    "                p.append(0.0)\n",
    "            out.append(p)\n",
    "    out = np.array(out)\n",
    "    out[1:, 0:2] -= out[:-1, 0:2]\n",
    "    return out\n",
    "\n",
    "out = coords_to_stroke3(coord)\n",
    "draw_strokes(out, factor=0.2)\n"
   ]
  },
  {
   "source": [
    "## Predicting the next stroke"
   ],
   "cell_type": "markdown",
   "metadata": {}
  },
  {
   "cell_type": "code",
   "execution_count": 92,
   "metadata": {},
   "outputs": [],
   "source": [
    "# import our command line tools\n",
    "import tensorflow as tf\n",
    "from magenta.models.sketch_rnn.sketch_rnn_train import *\n",
    "from magenta.models.sketch_rnn.model import *\n",
    "from magenta.models.sketch_rnn.utils import *\n",
    "from magenta.models.sketch_rnn.rnn import *"
   ]
  },
  {
   "cell_type": "code",
   "execution_count": 93,
   "metadata": {},
   "outputs": [],
   "source": [
    "models_root_dir = \"/Users/bhavika/Desktop/eai/cocreative-drawing/ml_agent/models\"\n",
    "model_dir = '/Users/bhavika/Desktop/eai/cocreative-drawing/ml_agent/models/images'"
   ]
  },
  {
   "cell_type": "code",
   "execution_count": 94,
   "metadata": {},
   "outputs": [],
   "source": [
    "model_params, eval_model_params, sample_model_params = load_model(model_dir)"
   ]
  },
  {
   "cell_type": "code",
   "execution_count": 95,
   "metadata": {},
   "outputs": [
    {
     "output_type": "stream",
     "name": "stdout",
     "text": [
      "INFO:tensorflow:Model using gpu.\n",
      "INFO:tensorflow:Input dropout mode = False.\n",
      "INFO:tensorflow:Output dropout mode = False.\n",
      "INFO:tensorflow:Recurrent dropout mode = True.\n",
      "INFO:tensorflow:Model using gpu.\n",
      "INFO:tensorflow:Input dropout mode = 0.\n",
      "INFO:tensorflow:Output dropout mode = 0.\n",
      "INFO:tensorflow:Recurrent dropout mode = 0.\n",
      "INFO:tensorflow:Model using gpu.\n",
      "INFO:tensorflow:Input dropout mode = 0.\n",
      "INFO:tensorflow:Output dropout mode = 0.\n",
      "INFO:tensorflow:Recurrent dropout mode = 0.\n"
     ]
    }
   ],
   "source": [
    "tf.compat.v1.disable_eager_execution()\n",
    "reset_graph()\n",
    "model = Model(model_params)\n",
    "eval_model = Model(eval_model_params, reuse=True)\n",
    "sample_model = Model(sample_model_params, reuse=True)"
   ]
  },
  {
   "cell_type": "code",
   "execution_count": 96,
   "metadata": {},
   "outputs": [],
   "source": [
    "sess = tf.compat.v1.InteractiveSession()\n",
    "sess.run(tf.compat.v1.global_variables_initializer())"
   ]
  },
  {
   "cell_type": "code",
   "execution_count": 97,
   "metadata": {},
   "outputs": [
    {
     "output_type": "stream",
     "name": "stdout",
     "text": [
      "INFO:tensorflow:Loading model /Users/bhavika/Desktop/eai/cocreative-drawing/ml_agent/models/images/vector-5000.\n",
      "INFO:tensorflow:Restoring parameters from /Users/bhavika/Desktop/eai/cocreative-drawing/ml_agent/models/images/vector-5000\n"
     ]
    }
   ],
   "source": [
    "load_checkpoint(sess, model_dir)"
   ]
  },
  {
   "cell_type": "code",
   "execution_count": 98,
   "metadata": {},
   "outputs": [
    {
     "output_type": "display_data",
     "data": {
      "text/plain": "<IPython.core.display.SVG object>",
      "image/svg+xml": "<svg xmlns=\"http://www.w3.org/2000/svg\" xmlns:ev=\"http://www.w3.org/2001/xml-events\" xmlns:xlink=\"http://www.w3.org/1999/xlink\" baseProfile=\"full\" height=\"374.5401337792641\" version=\"1.1\" width=\"350.0836120401338\"><defs/><rect fill=\"white\" height=\"374.5401337792641\" width=\"350.0836120401338\" x=\"0\" y=\"0\"/><path d=\"M125.0418060200669,137.27006688963206 m126.67224080267559,106.39632107023411 l2.090301003344468,0.0 5.016722408026766,0.41806020066889715 l4.598662207357869,0.41806020066889715 5.434782608695645,0.0 l2.508361204013365,0.0 2.0903010033444858,0.0 l0.8361204013377943,0.0 0.8361204013377943,-0.41806020066889715 l0.0,-1.2541806020066915 0.0,-2.92642140468228 l0.0,-3.7625418060200566 -0.8361204013377943,-4.598662207357869 l-1.2541806020066915,-3.3444816053511595 -2.508361204013365,-2.92642140468228 l-2.0903010033445035,-2.508361204013383 -3.3444816053511417,-1.6722408026755886 l-2.0903010033445035,-0.41806020066889715 -2.090301003344468,0.0 l-1.6722408026755886,0.0 -1.6722408026755886,1.2541806020066915 l-0.8361204013377943,2.508361204013383 -0.41806020066889715,3.7625418060200744 l-0.8361204013377943,11.705685618729085 0.0,11.287625418060205 l0.0,12.959866220735776 0.0,8.779264214046822 l0.0,11.705685618729103 -0.8361204013377943,8.361204013377925 l-1.6722408026755886,5.016722408026748 -1.6722408026755886,4.1806020066889715 l-3.3444816053511772,3.3444816053511772 -4.180602006688936,2.92642140468228 l-5.85284280936456,2.0903010033444858 -6.2709030100334395,1.254180602006656 l-5.852842809364542,0.0 -5.016722408026766,0.0 l-4.1806020066889715,-2.0903010033444502 -2.508361204013365,-1.6722408026755886 l-3.3444816053511772,-3.3444816053511772 -1.2541806020066737,-2.508361204013383 l-0.41806020066889715,-2.0903010033444858 -0.41806020066889715,-1.6722408026755886 l0.0,-2.090301003344468 0.8361204013377943,-1.6722408026755886 l2.508361204013365,-1.2541806020066915 2.92642140468228,-1.2541806020066737 l3.7625418060200566,-0.4180602006689149 2.508361204013383,0.0 l2.0903010033444858,0.0 1.2541806020066915,0.0 l0.41806020066889715,0.0 \" fill=\"none\" stroke=\"black\" stroke-width=\"1\"/></svg>"
     },
     "metadata": {}
    }
   ],
   "source": [
    "def encode(input_strokes):\n",
    "  strokes = to_big_strokes(input_strokes,max_len=eval_model.hps.max_seq_len).tolist()\n",
    "  strokes.insert(0, [0, 0, 1, 0, 0])\n",
    "  seq_len = [len(input_strokes)]\n",
    "  draw_strokes(to_normal_strokes(np.array(strokes))[1:], factor=0.2)\n",
    "  return sess.run(eval_model.batch_z, feed_dict={eval_model.input_data: [strokes], eval_model.sequence_lengths: seq_len})[0], strokes\n",
    "\n",
    "z, stks = encode(out)"
   ]
  },
  {
   "cell_type": "code",
   "execution_count": 99,
   "metadata": {},
   "outputs": [],
   "source": [
    "def pad_batch(model, batch, max_len):\n",
    "    \"\"\"Pad the batch to be stroke-5 bigger format as described in paper.\"\"\"\n",
    "    start_stroke_token = [0, 0, 1, 0, 0]\n",
    "    result = np.zeros((model.hps.batch_size, max_len + 1, 5), dtype=float)\n",
    "    assert len(batch) == model.hps.batch_size\n",
    "    for i in range(model.hps.batch_size):\n",
    "        l = len(batch[i])\n",
    "        assert l <= max_len\n",
    "        result[i, 0:l, 0:2] = batch[i][:, 0:2]\n",
    "        result[i, 0:l, 3] = batch[i][:, 2]\n",
    "        result[i, 0:l, 2] = 1 - result[i, 0:l, 3]\n",
    "        result[i, l:, 4] = 1\n",
    "        # put in the first token, as described in sketch-rnn methodology\n",
    "        result[i, 1:, :] = result[i, :-1, :]\n",
    "        result[i, 0, :] = 0\n",
    "        result[i, 0, 2] = start_stroke_token[2]  # setting S_0 from paper.\n",
    "        result[i, 0, 3] = start_stroke_token[3]\n",
    "        result[i, 0, 4] = start_stroke_token[4]\n",
    "    return result\n",
    "\n",
    "def sample(sess, model, seq_len=250, temperature=1.0, greedy_mode=False,\n",
    "           z=None, stks=None,blind=True):\n",
    "  \"\"\"Samples a sequence from a pre-trained model.\"\"\"\n",
    "\n",
    "  def adjust_temp(pi_pdf, temp):\n",
    "    pi_pdf = np.log(pi_pdf) / temp\n",
    "    pi_pdf -= pi_pdf.max()\n",
    "    pi_pdf = np.exp(pi_pdf)\n",
    "    pi_pdf /= pi_pdf.sum()\n",
    "    return pi_pdf\n",
    "\n",
    "  def get_pi_idx(x, pdf, temp=1.0, greedy=False):\n",
    "    \"\"\"Samples from a pdf, optionally greedily.\"\"\"\n",
    "    if greedy:\n",
    "      return np.argmax(pdf)\n",
    "    pdf = adjust_temp(np.copy(pdf), temp)\n",
    "    accumulate = 0\n",
    "    for i in range(0, pdf.size):\n",
    "      accumulate += pdf[i]\n",
    "      if accumulate >= x:\n",
    "        return i\n",
    "    tf.logging.info('Error with sampling ensemble.')\n",
    "    return -1\n",
    "\n",
    "  def sample_gaussian_2d(mu1, mu2, s1, s2, rho, temp=1.0, greedy=False):\n",
    "    if greedy:\n",
    "      return mu1, mu2\n",
    "    mean = [mu1, mu2]\n",
    "    s1 *= temp * temp\n",
    "    s2 *= temp * temp\n",
    "    cov = [[s1 * s1, rho * s1 * s2], [rho * s1 * s2, s2 * s2]]\n",
    "    x = np.random.multivariate_normal(mean, cov, 1)\n",
    "    return x[0][0], x[0][1]\n",
    "\n",
    "  prev_x = np.zeros((1, 1, 5), dtype=np.float32)\n",
    "  prev_x[0, 0, 2] = 1  # initially, we want to see beginning of new stroke\n",
    "\n",
    "  if z is None:\n",
    "    z = np.random.randn(1, model.hps.z_size)  # not used if unconditional\n",
    "\n",
    "  if not model.hps.conditional:\n",
    "    prev_state = sess.run(model.initial_state)\n",
    "  else:\n",
    "    prev_state = sess.run(model.initial_state, feed_dict={model.batch_z: z})\n",
    "\n",
    "  len_stks = len(stks)  \n",
    "  strokes = np.zeros((seq_len, 5), dtype=np.float32)\n",
    "  mixture_params = []\n",
    "\n",
    "  greedy = greedy_mode\n",
    "  temp = temperature\n",
    "\n",
    "  if not blind:\n",
    "    for j,stk in enumerate(stks):\n",
    "        i = j+1  \n",
    "        dta = pad_batch(sample_model,np.array([[stk]]),1)\n",
    "        if not model.hps.conditional:\n",
    "            feed = {\n",
    "                model.input_x: prev_x,\n",
    "                model.sequence_lengths: [1],\n",
    "                model.initial_state: prev_state,\n",
    "                model.input_data: dta\n",
    "            }\n",
    "        else:\n",
    "            feed = {\n",
    "                model.input_x: prev_x,\n",
    "                model.sequence_lengths: [1],\n",
    "                model.initial_state: prev_state,\n",
    "                model.batch_z: z,\n",
    "                model.input_data: dta\n",
    "            }\n",
    "\n",
    "        params = sess.run([\n",
    "            model.pi, model.mu1, model.mu2, model.sigma1, model.sigma2, model.corr,\n",
    "            model.pen, model.final_state\n",
    "        ], feed)\n",
    "\n",
    "        [o_pi, o_mu1, o_mu2, o_sigma1, o_sigma2, o_corr, o_pen, next_state] = params\n",
    "\n",
    "        idx = get_pi_idx(random.random(), o_pi[0], temp, greedy)\n",
    "\n",
    "        idx_eos = get_pi_idx(random.random(), o_pen[0], temp, greedy)\n",
    "        eos = [0, 0, 0]\n",
    "        eos[idx_eos] = 1\n",
    "\n",
    "        next_x1, next_x2 = sample_gaussian_2d(o_mu1[0][idx], o_mu2[0][idx],\n",
    "                                            o_sigma1[0][idx], o_sigma2[0][idx],\n",
    "                                            o_corr[0][idx], np.sqrt(temp), greedy)\n",
    "\n",
    "        params = [\n",
    "            o_pi[0], o_mu1[0], o_mu2[0], o_sigma1[0], o_sigma2[0], o_corr[0],\n",
    "            o_pen[0]\n",
    "        ]\n",
    "\n",
    "        mixture_params.append(params)\n",
    "\n",
    "        prev_x = np.zeros((1, 1, 5), dtype=np.float32)\n",
    "        prev_x[0][0] = np.array(\n",
    "            [next_x1, next_x2, eos[0], eos[1], eos[2]], dtype=np.float32)\n",
    "        prev_state = next_state\n",
    "\n",
    "    strokes = np.zeros((seq_len, 5), dtype=np.float32)\n",
    "    mixture_params = []\n",
    "\n",
    "  for i in range(seq_len):\n",
    "    if not model.hps.conditional:\n",
    "      feed = {\n",
    "          model.input_x: prev_x,\n",
    "          model.sequence_lengths: [1],\n",
    "          model.initial_state: prev_state\n",
    "      }\n",
    "    else:\n",
    "      feed = {\n",
    "          model.input_x: prev_x,\n",
    "          model.sequence_lengths: [1],\n",
    "          model.initial_state: prev_state,\n",
    "          model.batch_z: z\n",
    "      }\n",
    "\n",
    "    params = sess.run([\n",
    "        model.pi, model.mu1, model.mu2, model.sigma1, model.sigma2, model.corr,\n",
    "        model.pen, model.final_state\n",
    "    ], feed)\n",
    "\n",
    "    [o_pi, o_mu1, o_mu2, o_sigma1, o_sigma2, o_corr, o_pen, next_state] = params\n",
    "\n",
    "    idx = get_pi_idx(random.random(), o_pi[0], temp, greedy)\n",
    "\n",
    "    idx_eos = get_pi_idx(random.random(), o_pen[0], temp, greedy)\n",
    "    eos = [0, 0, 0]\n",
    "    eos[idx_eos] = 1\n",
    "\n",
    "    next_x1, next_x2 = sample_gaussian_2d(o_mu1[0][idx], o_mu2[0][idx],\n",
    "                                          o_sigma1[0][idx], o_sigma2[0][idx],\n",
    "                                          o_corr[0][idx], np.sqrt(temp), greedy)\n",
    "\n",
    "    strokes[i, :] = [next_x1, next_x2, eos[0], eos[1], eos[2]]\n",
    "\n",
    "    params = [\n",
    "        o_pi[0], o_mu1[0], o_mu2[0], o_sigma1[0], o_sigma2[0], o_corr[0],\n",
    "        o_pen[0]\n",
    "    ]\n",
    "\n",
    "    mixture_params.append(params)\n",
    "\n",
    "    prev_x = np.zeros((1, 1, 5), dtype=np.float32)\n",
    "    prev_x[0][0] = np.array(\n",
    "        [next_x1, next_x2, eos[0], eos[1], eos[2]], dtype=np.float32)\n",
    "    prev_state = next_state\n",
    "  return strokes, mixture_params\n",
    "\n",
    "def decode(z_input=None, draw_mode=True, temperature=0.1, factor=0.3, seq_len=eval_model.hps.max_seq_len, blind=True):\n",
    "  z = None\n",
    "  if z_input is not None:\n",
    "    z = [z_input]\n",
    "  sample_strokes, m = sample(sess, sample_model, seq_len=seq_len, temperature=temperature, z=z, stks=stks, blind=blind)\n",
    "\n",
    "  strokes = to_normal_strokes(sample_strokes)\n",
    "  strokes[-1][2] = 1\n",
    "  enc_strokes = to_normal_strokes(np.array(stks))\n",
    "\n",
    "  everything = np.concatenate((strokes,out),0)\n",
    "  if draw_mode:\n",
    "    draw_strokes(strokes, factor)\n",
    "    draw_strokes(out, factor)\n",
    "    draw_strokes(everything, factor)\n",
    "  return strokes, everything\n"
   ]
  },
  {
   "cell_type": "code",
   "execution_count": 160,
   "metadata": {},
   "outputs": [
    {
     "output_type": "display_data",
     "data": {
      "text/plain": "<IPython.core.display.SVG object>",
      "image/svg+xml": "<svg xmlns=\"http://www.w3.org/2000/svg\" xmlns:ev=\"http://www.w3.org/2001/xml-events\" xmlns:xlink=\"http://www.w3.org/1999/xlink\" baseProfile=\"full\" height=\"241.95833206176758\" version=\"1.1\" width=\"252.0459884405136\"><defs/><rect fill=\"white\" height=\"241.95833206176758\" width=\"252.0459884405136\" x=\"0\" y=\"0\"/><path d=\"M76.0229942202568,70.97916603088379 m49.01869297027588,41.95833206176758 l0.027765147387981415,-3.213230073451996 -0.46378467231988907,-2.3102478682994843 l-0.053170337341725826,-16.787019968032837 -0.07687796372920275,-2.3464596271514893 l0.05697965621948242,-2.529544234275818 0.9568395465612411,-13.393775224685669 l-5.027024149894714,0.7726378738880157 -2.4449005722999573,-0.035958923399448395 l-3.019590675830841,-0.14961370266973972 -4.194020628929138,0.6169929727911949 l-3.436974287033081,-0.3141392767429352 -11.356372833251953,-1.8789471685886383 l-3.3309245109558105,0.5024849623441696 -3.512048125267029,0.5139744654297829 l-3.600488305091858,0.5465912073850632 -3.1771206855773926,-0.7436379045248032 l-3.1332340836524963,-0.6674347817897797 -2.5768285989761353,0.053374930284917355 l-3.2364609837532043,-0.5374667048454285 \" fill=\"none\" stroke=\"black\" stroke-width=\"1\"/></svg>"
     },
     "metadata": {}
    },
    {
     "output_type": "display_data",
     "data": {
      "text/plain": "<IPython.core.display.SVG object>",
      "image/svg+xml": "<svg xmlns=\"http://www.w3.org/2000/svg\" xmlns:ev=\"http://www.w3.org/2001/xml-events\" xmlns:xlink=\"http://www.w3.org/1999/xlink\" baseProfile=\"full\" height=\"374.5401337792641\" version=\"1.1\" width=\"350.0836120401338\"><defs/><rect fill=\"white\" height=\"374.5401337792641\" width=\"350.0836120401338\" x=\"0\" y=\"0\"/><path d=\"M125.0418060200669,137.27006688963206 m126.67224080267559,106.39632107023411 l2.090301003344468,0.0 5.016722408026766,0.41806020066889715 l4.598662207357869,0.41806020066889715 5.434782608695645,0.0 l2.508361204013365,0.0 2.0903010033444858,0.0 l0.8361204013377943,0.0 0.8361204013377943,-0.41806020066889715 l0.0,-1.2541806020066915 0.0,-2.92642140468228 l0.0,-3.7625418060200566 -0.8361204013377943,-4.598662207357869 l-1.2541806020066915,-3.3444816053511595 -2.508361204013365,-2.92642140468228 l-2.0903010033445035,-2.508361204013383 -3.3444816053511417,-1.6722408026755886 l-2.0903010033445035,-0.41806020066889715 -2.090301003344468,0.0 l-1.6722408026755886,0.0 -1.6722408026755886,1.2541806020066915 l-0.8361204013377943,2.508361204013383 -0.41806020066889715,3.7625418060200744 l-0.8361204013377943,11.705685618729085 0.0,11.287625418060205 l0.0,12.959866220735776 0.0,8.779264214046822 l0.0,11.705685618729103 -0.8361204013377943,8.361204013377925 l-1.6722408026755886,5.016722408026748 -1.6722408026755886,4.1806020066889715 l-3.3444816053511772,3.3444816053511772 -4.180602006688936,2.92642140468228 l-5.85284280936456,2.0903010033444858 -6.2709030100334395,1.254180602006656 l-5.852842809364542,0.0 -5.016722408026766,0.0 l-4.1806020066889715,-2.0903010033444502 -2.508361204013365,-1.6722408026755886 l-3.3444816053511772,-3.3444816053511772 -1.2541806020066737,-2.508361204013383 l-0.41806020066889715,-2.0903010033444858 -0.41806020066889715,-1.6722408026755886 l0.0,-2.090301003344468 0.8361204013377943,-1.6722408026755886 l2.508361204013365,-1.2541806020066915 2.92642140468228,-1.2541806020066737 l3.7625418060200566,-0.4180602006689149 2.508361204013383,0.0 l2.0903010033444858,0.0 1.2541806020066915,0.0 l0.41806020066889715,0.0 \" fill=\"none\" stroke=\"black\" stroke-width=\"1\"/></svg>"
     },
     "metadata": {}
    },
    {
     "output_type": "display_data",
     "data": {
      "text/plain": "<IPython.core.display.SVG object>",
      "image/svg+xml": "<svg xmlns=\"http://www.w3.org/2000/svg\" xmlns:ev=\"http://www.w3.org/2001/xml-events\" xmlns:xlink=\"http://www.w3.org/1999/xlink\" baseProfile=\"full\" height=\"374.5970467946968\" version=\"1.1\" width=\"350.08361204013374\"><defs/><rect fill=\"white\" height=\"374.5970467946968\" width=\"350.08361204013374\" x=\"0\" y=\"0\"/><path d=\"M125.04180602006687,137.2985233973484 m49.01869297027588,41.95833206176758 l0.027765147387981415,-3.213230073451996 -0.46378467231988907,-2.3102478682994843 l-0.053170337341725826,-16.787019968032837 -0.07687796372920275,-2.3464596271514893 l0.05697965621948242,-2.529544234275818 0.9568395465612411,-13.393775224685669 l-5.027024149894714,0.7726378738880157 -2.4449005722999573,-0.035958923399448395 l-3.019590675830841,-0.14961370266973972 -4.194020628929138,0.6169929727911949 l-3.436974287033081,-0.3141392767429352 -11.356372833251953,-1.8789471685886383 l-3.3309245109558105,0.5024849623441696 -3.512048125267029,0.5139744654297829 l-3.600488305091858,0.5465912073850632 -3.1771206855773926,-0.7436379045248032 l-3.1332340836524963,-0.6674347817897797 -2.5768285989761353,0.053374930284917355 l-3.2364609837532043,-0.5374667048454285 m126.67224080267559,106.39632107023411 l2.090301003344468,0.0 5.016722408026766,0.41806020066889715 l4.598662207357869,0.41806020066889715 5.434782608695645,0.0 l2.508361204013365,0.0 2.0903010033444858,0.0 l0.8361204013377943,0.0 0.8361204013377943,-0.41806020066889715 l0.0,-1.2541806020066915 0.0,-2.92642140468228 l0.0,-3.7625418060200566 -0.8361204013377943,-4.598662207357869 l-1.2541806020066915,-3.3444816053511595 -2.508361204013365,-2.92642140468228 l-2.0903010033445035,-2.508361204013383 -3.3444816053511417,-1.6722408026755886 l-2.0903010033445035,-0.41806020066889715 -2.090301003344468,0.0 l-1.6722408026755886,0.0 -1.6722408026755886,1.2541806020066915 l-0.8361204013377943,2.508361204013383 -0.41806020066889715,3.7625418060200744 l-0.8361204013377943,11.705685618729085 0.0,11.287625418060205 l0.0,12.959866220735776 0.0,8.779264214046822 l0.0,11.705685618729103 -0.8361204013377943,8.361204013377925 l-1.6722408026755886,5.016722408026748 -1.6722408026755886,4.1806020066889715 l-3.3444816053511772,3.3444816053511772 -4.180602006688936,2.92642140468228 l-5.85284280936456,2.0903010033444858 -6.2709030100334395,1.254180602006656 l-5.852842809364542,0.0 -5.016722408026766,0.0 l-4.1806020066889715,-2.0903010033444502 -2.508361204013365,-1.6722408026755886 l-3.3444816053511772,-3.3444816053511772 -1.2541806020066737,-2.508361204013383 l-0.41806020066889715,-2.0903010033444858 -0.41806020066889715,-1.6722408026755886 l0.0,-2.090301003344468 0.8361204013377943,-1.6722408026755886 l2.508361204013365,-1.2541806020066915 2.92642140468228,-1.2541806020066737 l3.7625418060200566,-0.4180602006689149 2.508361204013383,0.0 l2.0903010033444858,0.0 1.2541806020066915,0.0 l0.41806020066889715,0.0 \" fill=\"none\" stroke=\"black\" stroke-width=\"1\"/></svg>"
     },
     "metadata": {}
    }
   ],
   "source": [
    "final_strokes,everything = decode(z, temperature=0.9, seq_len=20, factor=0.2, blind=True)"
   ]
  },
  {
   "source": [
    "## Converting stroke3 to coordinates"
   ],
   "cell_type": "markdown",
   "metadata": {}
  },
  {
   "cell_type": "code",
   "execution_count": 194,
   "metadata": {},
   "outputs": [
    {
     "output_type": "execute_result",
     "data": {
      "text/plain": [
       "[[[60.319647412747145, 58.907575231045485],\n",
       "  [60.32520044222474, 58.264929216355085],\n",
       "  [60.23244350776076, 57.80287964269519],\n",
       "  [60.22180944029242, 54.44547564908862],\n",
       "  [60.20643384754658, 53.97618372365832],\n",
       "  [60.217829778790474, 53.47027487680316],\n",
       "  [60.40919768810272, 50.791519831866026],\n",
       "  [59.40379285812378, 50.94604740664363],\n",
       "  [58.91481274366379, 50.93885562196374],\n",
       "  [58.31089460849762, 50.90893288142979],\n",
       "  [57.47209048271179, 51.03233147598803],\n",
       "  [56.784695625305176, 50.96950362063944],\n",
       "  [54.513421058654785, 50.593714186921716],\n",
       "  [53.84723615646362, 50.69421117939055],\n",
       "  [53.14482653141022, 50.797006072476506],\n",
       "  [52.424728870391846, 50.90632431395352],\n",
       "  [51.78930473327637, 50.75759673304856],\n",
       "  [51.16265791654587, 50.6241097766906],\n",
       "  [50.64729219675064, 50.634784762747586],\n",
       "  [50.0, 50.5272914217785]]]"
      ]
     },
     "metadata": {},
     "execution_count": 194
    }
   ],
   "source": [
    "def strokes_to_lines(strokes):\n",
    "  \"\"\"Convert stroke-3 format to polyline format.\"\"\"\n",
    "  x = 0\n",
    "  y = 0\n",
    "  lines = []\n",
    "  line = []\n",
    "  min_val = 10000\n",
    "  for i in range(len(strokes)):\n",
    "    if strokes[i, 2] == 1:\n",
    "      x += float(strokes[i, 0])\n",
    "      y += float(strokes[i, 1])\n",
    "      line.append([x, y])\n",
    "      lines.append(line)\n",
    "      line = []\n",
    "    else:\n",
    "      x += float(strokes[i, 0])\n",
    "      y += float(strokes[i, 1])\n",
    "      line.append([x, y])\n",
    "    if x < min_val:\n",
    "        min_val = x\n",
    "    if y < min_val:\n",
    "        min_val = y\n",
    "  if len(line) >0:\n",
    "    lines.append(line)\n",
    "  final = []\n",
    "  if min_val < 0:\n",
    "      s = (min_val-50)\n",
    "  else:\n",
    "      s = 0\n",
    "  for line in lines:\n",
    "      temp = []\n",
    "      for point in line:\n",
    "          x *=60\n",
    "          x = point[0] - s\n",
    "          y *=60\n",
    "          y = point[1] - s\n",
    "          temp.append([x,y])\n",
    "      final.append(temp)\n",
    "  return final\n",
    "\n",
    "strokes_to_lines(final_strokes)"
   ]
  },
  {
   "cell_type": "code",
   "execution_count": 198,
   "metadata": {},
   "outputs": [
    {
     "output_type": "execute_result",
     "data": {
      "text/plain": [
       "[[[173.83576895296574, 156.89090277254581],\n",
       "  [173.9024053066969, 149.17915059626102],\n",
       "  [172.78932209312916, 143.63455571234226],\n",
       "  [172.66171328350902, 103.34570778906345],\n",
       "  [172.47720617055893, 97.71420468389988],\n",
       "  [172.6139573454857, 91.64329852163792],\n",
       "  [174.91037225723267, 59.49823798239231],\n",
       "  [162.84551429748535, 61.35256887972355],\n",
       "  [156.97775292396545, 61.26626746356487],\n",
       "  [149.73073530197144, 60.9071945771575],\n",
       "  [139.6650857925415, 62.387977711856365],\n",
       "  [131.4163475036621, 61.63404344767332],\n",
       "  [104.16105270385742, 57.12457024306059],\n",
       "  [96.16683387756348, 58.330534152686596],\n",
       "  [87.73791837692261, 59.564072869718075],\n",
       "  [79.09674644470215, 60.875891767442226],\n",
       "  [71.4716567993164, 59.0911607965827],\n",
       "  [63.951894998550415, 57.48931732028723],\n",
       "  [57.76750636100769, 57.61741715297103],\n",
       "  [50.0, 56.327497061342]]]"
      ]
     },
     "metadata": {},
     "execution_count": 198
    }
   ],
   "source": [
    "def strokes_to_lines(strokes):\n",
    "  \"\"\"Convert stroke-3 format to polyline format.\"\"\"\n",
    "  x = 0\n",
    "  y = 0\n",
    "  lines = []\n",
    "  line = []\n",
    "  for i in range(len(strokes)):\n",
    "    if strokes[i, 2] == 1:\n",
    "        x += float(strokes[i, 0])\n",
    "        y += float(strokes[i, 1])\n",
    "        line.append([x, y])\n",
    "        lines.append(line)\n",
    "        line = []\n",
    "    else:\n",
    "        x += float(strokes[i, 0])\n",
    "        y += float(strokes[i, 1])\n",
    "        line.append([x, y])\n",
    "  if len(line) >0:\n",
    "    lines.append(line)\n",
    "  lines = np.array(lines).astype(float)\n",
    "  lines = lines*12.0\n",
    "  min_val = float(np.amin(lines)) -50.0\n",
    "  lines = lines - min_val\n",
    "  lines = lines.tolist()\n",
    "  return lines\n",
    "\n",
    "strokes_to_lines(final_strokes)"
   ]
  },
  {
   "cell_type": "code",
   "execution_count": 208,
   "metadata": {},
   "outputs": [
    {
     "output_type": "stream",
     "name": "stdout",
     "text": [
      "-6.190905824303627\n"
     ]
    },
    {
     "output_type": "execute_result",
     "data": {
      "text/plain": [
       "[[[173.83576895296574, 156.89090277254581],\n",
       "  [173.9024053066969, 149.17915059626102],\n",
       "  [172.78932209312916, 143.63455571234226],\n",
       "  [172.66171328350902, 103.34570778906345],\n",
       "  [172.47720617055893, 97.71420468389988],\n",
       "  [172.6139573454857, 91.64329852163792],\n",
       "  [174.91037225723267, 59.49823798239231],\n",
       "  [162.84551429748535, 61.35256887972355],\n",
       "  [156.97775292396545, 61.26626746356487],\n",
       "  [149.73073530197144, 60.9071945771575],\n",
       "  [139.6650857925415, 62.387977711856365],\n",
       "  [131.4163475036621, 61.63404344767332],\n",
       "  [104.16105270385742, 57.12457024306059],\n",
       "  [96.16683387756348, 58.330534152686596],\n",
       "  [87.73791837692261, 59.564072869718075],\n",
       "  [79.09674644470215, 60.875891767442226],\n",
       "  [71.4716567993164, 59.0911607965827],\n",
       "  [63.951894998550415, 57.48931732028723],\n",
       "  [57.76750636100769, 57.61741715297103],\n",
       "  [50.0, 56.327497061342]]]"
      ]
     },
     "metadata": {},
     "execution_count": 208
    }
   ],
   "source": [
    "def strokes_to_lines(strokes):\n",
    "    \"\"\"Convert stroke-3 format to polyline format.\"\"\"\n",
    "    x = 0\n",
    "    y = 0\n",
    "    lines = []\n",
    "    line = []\n",
    "    for i in range(len(strokes)):\n",
    "        if strokes[i, 2] == 1:\n",
    "            x += float(strokes[i, 0])\n",
    "            y += float(strokes[i, 1])\n",
    "            line.append([x, y])\n",
    "            lines.append(line)\n",
    "            line = []\n",
    "        else:\n",
    "            x += float(strokes[i, 0])\n",
    "            y += float(strokes[i, 1])\n",
    "            line.append([x, y])\n",
    "    if len(line) >0:\n",
    "        lines.append(line)\n",
    "\n",
    "    min_val = 0\n",
    "    final_lines = []\n",
    "    for line in lines:\n",
    "   \n",
    "        line = np.array(line).astype(float)\n",
    "        line = line*12.0\n",
    "\n",
    "        temp_min_val = float(np.amin(line))\n",
    "        if temp_min_val < min_val:\n",
    "            min_val = temp_min_val\n",
    "        line = line.tolist()\n",
    "        final_lines.append(line)\n",
    "    scaled_final_lines = []\n",
    "    for line in final_lines:    \n",
    "        line = np.array(line).astype(float)\n",
    "        line -= (min_val-50)\n",
    "        line = line.tolist()\n",
    "        scaled_final_lines.append(line)\n",
    "    return scaled_final_lines\n",
    "\n",
    "strokes_to_lines(final_strokes)"
   ]
  },
  {
   "cell_type": "code",
   "execution_count": null,
   "metadata": {},
   "outputs": [],
   "source": []
  }
 ]
}