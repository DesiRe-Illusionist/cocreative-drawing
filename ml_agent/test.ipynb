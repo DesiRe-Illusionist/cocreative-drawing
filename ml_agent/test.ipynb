{
 "metadata": {
  "orig_nbformat": 2,
  "kernelspec": {
   "name": "python385jvsc74a57bd0fff84fbe70ea17c2d11c3a9e915762dbf6ab6fa8b67c4eeb773eaef42d0e0269",
   "display_name": "Python 3.8.5 64-bit"
  },
  "metadata": {
   "interpreter": {
    "hash": "feef0d1468c88b425c31509a915c5b49091911af7aca5c046e8ac5090aae9e00"
   }
  }
 },
 "nbformat": 4,
 "nbformat_minor": 2,
 "cells": [
  {
   "cell_type": "code",
   "execution_count": 36,
   "metadata": {},
   "outputs": [],
   "source": [
    "import numpy as np"
   ]
  },
  {
   "cell_type": "code",
   "execution_count": 37,
   "metadata": {},
   "outputs": [],
   "source": [
    "TEST_LINE = np.array([[-2.980674, 2.4316025, 0.],\n",
    " [ 1.9609697,-0.7843879,0.],\n",
    " [ 1.0197042,-0.7843879,0.],\n",
    " [ 0.86282665,-0.7843879,0.],\n",
    " [ 0.6275103,-0.86282665,0.]])\n"
   ]
  },
  {
   "cell_type": "code",
   "execution_count": 38,
   "metadata": {},
   "outputs": [],
   "source": [
    "models_root_dir = 'models/'\n",
    "model_dir = 'models/images'"
   ]
  },
  {
   "cell_type": "code",
   "execution_count": 39,
   "metadata": {},
   "outputs": [],
   "source": [
    "from sketch_rnn.sketch_rnn_train import *\n",
    "from sketch_rnn.model import *\n",
    "from sketch_rnn.utils import *\n",
    "from sketch_rnn.rnn import *"
   ]
  },
  {
   "cell_type": "code",
   "execution_count": 40,
   "metadata": {},
   "outputs": [],
   "source": [
    "model_params, eval_model_params, sample_model_params = load_model(model_dir)"
   ]
  },
  {
   "cell_type": "code",
   "execution_count": 41,
   "metadata": {},
   "outputs": [
    {
     "output_type": "stream",
     "name": "stdout",
     "text": [
      "INFO:tensorflow:Model using gpu.\n",
      "INFO:tensorflow:Input dropout mode = False.\n",
      "INFO:tensorflow:Output dropout mode = False.\n",
      "INFO:tensorflow:Recurrent dropout mode = True.\n",
      "INFO:tensorflow:Model using gpu.\n",
      "INFO:tensorflow:Input dropout mode = 0.\n",
      "INFO:tensorflow:Output dropout mode = 0.\n",
      "INFO:tensorflow:Recurrent dropout mode = 0.\n",
      "INFO:tensorflow:Model using gpu.\n",
      "INFO:tensorflow:Input dropout mode = 0.\n",
      "INFO:tensorflow:Output dropout mode = 0.\n",
      "INFO:tensorflow:Recurrent dropout mode = 0.\n"
     ]
    }
   ],
   "source": [
    "tf.compat.v1.disable_eager_execution()\n",
    "reset_graph()\n",
    "model = Model(model_params)\n",
    "eval_model = Model(eval_model_params, reuse=True)\n",
    "sample_model = Model(sample_model_params, reuse=True)"
   ]
  },
  {
   "cell_type": "code",
   "execution_count": 42,
   "metadata": {},
   "outputs": [],
   "source": [
    "sess = tf.compat.v1.InteractiveSession()\n",
    "sess.run(tf.compat.v1.global_variables_initializer())"
   ]
  },
  {
   "cell_type": "code",
   "execution_count": 43,
   "metadata": {},
   "outputs": [
    {
     "output_type": "stream",
     "name": "stdout",
     "text": [
      "models/images\n",
      "INFO:tensorflow:Loading model models/images/vector-5000.\n",
      "INFO:tensorflow:Restoring parameters from models/images/vector-5000\n"
     ]
    }
   ],
   "source": [
    "load_checkpoint(sess, model_dir)"
   ]
  },
  {
   "cell_type": "code",
   "execution_count": 44,
   "metadata": {},
   "outputs": [],
   "source": [
    "import tensorflow as tf\n",
    "import svgwrite\n",
    "from IPython.display import SVG, display\n",
    "from six.moves import xrange\n",
    "\n",
    "# little function that displays vector images and saves them to .svg\n",
    "def draw_strokes2(data, factor=0.2, svg_filename = 'sample.svg', c=\"black\"):\n",
    "#   tf.gfile.MakeDirs(os.path.dirname(svg_filename))\n",
    "    out = '<svg xmlns=\"http://www.w3.org/2000/svg\" version=\"1.1\">'\n",
    "    temp = []\n",
    "    for d in data:\n",
    "        p = d.copy()\n",
    "        p[0]/=factor\n",
    "        p[1]/=factor\n",
    "        temp.append([p[0], p[1]])\n",
    "        if p[2] == 1.0 and len(temp) > 0:\n",
    "            l = \",\".join([str(p[0]*0.5)+\",\"+str(p[1]*0.5) for p in temp])\n",
    "            temp = []\n",
    "    l = \",\".join([str(p[0]*0.5)+\",\"+str(p[1]*0.5) for p in temp])\n",
    "    out += '<polyline points=\"'+l+f'\" stroke=\"black\" stroke-width=\"0.5\" fill=\"none\" />\\n'\n",
    "    out += '</svg>'\n",
    "    return out\n",
    "from IPython.display import SVG, display\n",
    "import PIL\n",
    "from PIL import Image\n",
    "import matplotlib.pyplot as plt\n",
    "\n",
    "# set numpy output to something sensible\n",
    "def draw_strokes(data, factor=0.2, svg_filename = 'sample.svg', c=\"black\"):\n",
    "#   tf.gfile.MakeDirs(os.path.dirname(svg_filename))\n",
    "  min_x, max_x, min_y, max_y = get_bounds(data, factor)\n",
    "  dims = (50 + max_x - min_x, 50 + max_y - min_y)\n",
    "  dwg = svgwrite.Drawing(svg_filename, size=dims)\n",
    "  dwg.add(dwg.rect(insert=(0, 0), size=dims,fill='white'))\n",
    "  lift_pen = 1\n",
    "  abs_x = 25 - min_x \n",
    "  abs_y = 25 - min_y\n",
    "  p = \"M%s,%s \" % (abs_x, abs_y)\n",
    "  command = \"m\"\n",
    "  for i in xrange(len(data)):\n",
    "    if (lift_pen == 1):\n",
    "      command = \"m\"\n",
    "    elif (command != \"l\"):\n",
    "      command = \"l\"\n",
    "    else:\n",
    "      command = \"\"\n",
    "    x = float(data[i,0])/factor\n",
    "    y = float(data[i,1])/factor\n",
    "    lift_pen = data[i, 2]\n",
    "    p += command+str(x)+\",\"+str(y)+\" \"\n",
    "  the_color = c\n",
    "  stroke_width = 1\n",
    "  dwg.add(dwg.path(p).stroke(the_color,stroke_width).fill(\"none\"))\n",
    "  dwg.save()\n",
    "  print(dwg.tostring())\n",
    "  display(SVG(dwg.tostring()))\n",
    "  return dwg"
   ]
  },
  {
   "source": [
    "dwg = draw_strokes(TEST_LINE)"
   ],
   "cell_type": "code",
   "metadata": {},
   "execution_count": 45,
   "outputs": [
    {
     "output_type": "stream",
     "name": "stdout",
     "text": [
      "<svg baseProfile=\"full\" height=\"66.07995175\" version=\"1.1\" width=\"72.35505425\" xmlns=\"http://www.w3.org/2000/svg\" xmlns:ev=\"http://www.w3.org/2001/xml-events\" xmlns:xlink=\"http://www.w3.org/1999/xlink\"><defs /><rect fill=\"white\" height=\"66.07995175\" width=\"72.35505425\" x=\"0\" y=\"0\" /><path d=\"M39.903369999999995,28.921939250000005 m-14.903369999999999,12.158012499999998 l9.804848499999999,-3.9219395 5.098521,-3.9219395 l4.31413325,-3.9219395 3.1375515,-4.31413325 \" fill=\"none\" stroke=\"black\" stroke-width=\"1\" /></svg>\n"
     ]
    },
    {
     "output_type": "display_data",
     "data": {
      "text/plain": "<IPython.core.display.SVG object>",
      "image/svg+xml": "<svg xmlns=\"http://www.w3.org/2000/svg\" xmlns:ev=\"http://www.w3.org/2001/xml-events\" xmlns:xlink=\"http://www.w3.org/1999/xlink\" baseProfile=\"full\" height=\"66.07995175\" version=\"1.1\" width=\"72.35505425\"><defs/><rect fill=\"white\" height=\"66.07995175\" width=\"72.35505425\" x=\"0\" y=\"0\"/><path d=\"M39.903369999999995,28.921939250000005 m-14.903369999999999,12.158012499999998 l9.804848499999999,-3.9219395 5.098521,-3.9219395 l4.31413325,-3.9219395 3.1375515,-4.31413325 \" fill=\"none\" stroke=\"black\" stroke-width=\"1\"/></svg>"
     },
     "metadata": {}
    }
   ]
  },
  {
   "cell_type": "code",
   "execution_count": 46,
   "metadata": {},
   "outputs": [
    {
     "output_type": "error",
     "ename": "KeyError",
     "evalue": "0",
     "traceback": [
      "\u001b[0;31m---------------------------------------------------------------------------\u001b[0m",
      "\u001b[0;31mKeyError\u001b[0m                                  Traceback (most recent call last)",
      "\u001b[0;32m<ipython-input-46-8a86895db5da>\u001b[0m in \u001b[0;36m<module>\u001b[0;34m\u001b[0m\n\u001b[0;32m----> 1\u001b[0;31m \u001b[0mprint\u001b[0m\u001b[0;34m(\u001b[0m\u001b[0msvgwrite\u001b[0m\u001b[0;34m.\u001b[0m\u001b[0mshapes\u001b[0m\u001b[0;34m.\u001b[0m\u001b[0mPolyline\u001b[0m\u001b[0;34m(\u001b[0m\u001b[0mdwg\u001b[0m\u001b[0;34m.\u001b[0m\u001b[0melements\u001b[0m\u001b[0;34m[\u001b[0m\u001b[0;36m2\u001b[0m\u001b[0;34m]\u001b[0m\u001b[0;34m)\u001b[0m\u001b[0;34m)\u001b[0m\u001b[0;34m\u001b[0m\u001b[0;34m\u001b[0m\u001b[0m\n\u001b[0m",
      "\u001b[0;32m~/opt/miniconda3/lib/python3.8/site-packages/svgwrite/shapes.py\u001b[0m in \u001b[0;36m__init__\u001b[0;34m(self, points, **extra)\u001b[0m\n\u001b[1;32m    116\u001b[0m         \"\"\"\n\u001b[1;32m    117\u001b[0m         \u001b[0msuper\u001b[0m\u001b[0;34m(\u001b[0m\u001b[0mPolyline\u001b[0m\u001b[0;34m,\u001b[0m \u001b[0mself\u001b[0m\u001b[0;34m)\u001b[0m\u001b[0;34m.\u001b[0m\u001b[0m__init__\u001b[0m\u001b[0;34m(\u001b[0m\u001b[0;34m**\u001b[0m\u001b[0mextra\u001b[0m\u001b[0;34m)\u001b[0m\u001b[0;34m\u001b[0m\u001b[0;34m\u001b[0m\u001b[0m\n\u001b[0;32m--> 118\u001b[0;31m         \u001b[0mself\u001b[0m\u001b[0;34m.\u001b[0m\u001b[0mpoints\u001b[0m \u001b[0;34m=\u001b[0m \u001b[0mlist\u001b[0m\u001b[0;34m(\u001b[0m\u001b[0mpoints\u001b[0m\u001b[0;34m)\u001b[0m\u001b[0;34m\u001b[0m\u001b[0;34m\u001b[0m\u001b[0m\n\u001b[0m\u001b[1;32m    119\u001b[0m         \u001b[0;32mif\u001b[0m \u001b[0mself\u001b[0m\u001b[0;34m.\u001b[0m\u001b[0mdebug\u001b[0m\u001b[0;34m:\u001b[0m\u001b[0;34m\u001b[0m\u001b[0;34m\u001b[0m\u001b[0m\n\u001b[1;32m    120\u001b[0m             \u001b[0;32mfor\u001b[0m \u001b[0mpoint\u001b[0m \u001b[0;32min\u001b[0m \u001b[0mself\u001b[0m\u001b[0;34m.\u001b[0m\u001b[0mpoints\u001b[0m\u001b[0;34m:\u001b[0m\u001b[0;34m\u001b[0m\u001b[0;34m\u001b[0m\u001b[0m\n",
      "\u001b[0;32m~/opt/miniconda3/lib/python3.8/site-packages/svgwrite/base.py\u001b[0m in \u001b[0;36m__getitem__\u001b[0;34m(self, key)\u001b[0m\n\u001b[1;32m    152\u001b[0m \u001b[0;34m\u001b[0m\u001b[0m\n\u001b[1;32m    153\u001b[0m         \"\"\"\n\u001b[0;32m--> 154\u001b[0;31m         \u001b[0;32mreturn\u001b[0m \u001b[0mself\u001b[0m\u001b[0;34m.\u001b[0m\u001b[0mattribs\u001b[0m\u001b[0;34m[\u001b[0m\u001b[0mkey\u001b[0m\u001b[0;34m]\u001b[0m\u001b[0;34m\u001b[0m\u001b[0;34m\u001b[0m\u001b[0m\n\u001b[0m\u001b[1;32m    155\u001b[0m \u001b[0;34m\u001b[0m\u001b[0m\n\u001b[1;32m    156\u001b[0m     \u001b[0;32mdef\u001b[0m \u001b[0m__setitem__\u001b[0m\u001b[0;34m(\u001b[0m\u001b[0mself\u001b[0m\u001b[0;34m,\u001b[0m \u001b[0mkey\u001b[0m\u001b[0;34m,\u001b[0m \u001b[0mvalue\u001b[0m\u001b[0;34m)\u001b[0m\u001b[0;34m:\u001b[0m\u001b[0;34m\u001b[0m\u001b[0;34m\u001b[0m\u001b[0m\n",
      "\u001b[0;31mKeyError\u001b[0m: 0"
     ]
    }
   ],
   "source": [
    "print(svgwrite.shapes.Polyline(dwg.elements[2]))"
   ]
  },
  {
   "cell_type": "code",
   "execution_count": null,
   "metadata": {},
   "outputs": [],
   "source": [
    "def encode(input_strokes):\n",
    "  strokes = to_big_strokes(input_strokes,max_len=eval_model.hps.max_seq_len).tolist()\n",
    "  strokes.insert(0, [0, 0, 1, 0, 0])\n",
    "  seq_len = [len(input_strokes)]\n",
    "  print(seq_len)\n",
    "  draw_strokes(to_normal_strokes(np.array(strokes)))\n",
    "  return sess.run(eval_model.batch_z, feed_dict={eval_model.input_data: [strokes], eval_model.sequence_lengths: seq_len})[0], strokes\n",
    "\n",
    "z, stks = encode(TEST_LINE)"
   ]
  },
  {
   "cell_type": "code",
   "execution_count": null,
   "metadata": {},
   "outputs": [],
   "source": [
    "def pad_batch(model, batch, max_len):\n",
    "    \"\"\"Pad the batch to be stroke-5 bigger format as described in paper.\"\"\"\n",
    "    start_stroke_token = [0, 0, 1, 0, 0]\n",
    "    result = np.zeros((model.hps.batch_size, max_len + 1, 5), dtype=float)\n",
    "    assert len(batch) == model.hps.batch_size\n",
    "    for i in range(model.hps.batch_size):\n",
    "        l = len(batch[i])\n",
    "        assert l <= max_len\n",
    "        result[i, 0:l, 0:2] = batch[i][:, 0:2]\n",
    "        result[i, 0:l, 3] = batch[i][:, 2]\n",
    "        result[i, 0:l, 2] = 1 - result[i, 0:l, 3]\n",
    "        result[i, l:, 4] = 1\n",
    "        # put in the first token, as described in sketch-rnn methodology\n",
    "        result[i, 1:, :] = result[i, :-1, :]\n",
    "        result[i, 0, :] = 0\n",
    "        result[i, 0, 2] = start_stroke_token[2]  # setting S_0 from paper.\n",
    "        result[i, 0, 3] = start_stroke_token[3]\n",
    "        result[i, 0, 4] = start_stroke_token[4]\n",
    "    return result\n",
    "\n",
    "def sample(sess, model, seq_len=250, temperature=1.0, greedy_mode=False,\n",
    "           z=None, stks=None):\n",
    "  \"\"\"Samples a sequence from a pre-trained model.\"\"\"\n",
    "\n",
    "  def adjust_temp(pi_pdf, temp):\n",
    "    pi_pdf = np.log(pi_pdf) / temp\n",
    "    pi_pdf -= pi_pdf.max()\n",
    "    pi_pdf = np.exp(pi_pdf)\n",
    "    pi_pdf /= pi_pdf.sum()\n",
    "    return pi_pdf\n",
    "\n",
    "  def get_pi_idx(x, pdf, temp=1.0, greedy=False):\n",
    "    \"\"\"Samples from a pdf, optionally greedily.\"\"\"\n",
    "    if greedy:\n",
    "      return np.argmax(pdf)\n",
    "    pdf = adjust_temp(np.copy(pdf), temp)\n",
    "    accumulate = 0\n",
    "    for i in range(0, pdf.size):\n",
    "      accumulate += pdf[i]\n",
    "      if accumulate >= x:\n",
    "        return i\n",
    "    tf.logging.info('Error with sampling ensemble.')\n",
    "    return -1\n",
    "\n",
    "  def sample_gaussian_2d(mu1, mu2, s1, s2, rho, temp=1.0, greedy=False):\n",
    "    if greedy:\n",
    "      return mu1, mu2\n",
    "    mean = [mu1, mu2]\n",
    "    s1 *= temp * temp\n",
    "    s2 *= temp * temp\n",
    "    cov = [[s1 * s1, rho * s1 * s2], [rho * s1 * s2, s2 * s2]]\n",
    "    x = np.random.multivariate_normal(mean, cov, 1)\n",
    "    return x[0][0], x[0][1]\n",
    "\n",
    "  prev_x = np.zeros((1, 1, 5), dtype=np.float32)\n",
    "  prev_x[0, 0, 2] = 1  # initially, we want to see beginning of new stroke\n",
    "\n",
    "  if z is None:\n",
    "    z = np.random.randn(1, model.hps.z_size)  # not used if unconditional\n",
    "\n",
    "  if not model.hps.conditional:\n",
    "    prev_state = sess.run(model.initial_state)\n",
    "  else:\n",
    "    prev_state = sess.run(model.initial_state, feed_dict={model.batch_z: z})\n",
    "\n",
    "  len_stks = len(stks)  \n",
    "  strokes = np.zeros((seq_len, 5), dtype=np.float32)\n",
    "  mixture_params = []\n",
    "\n",
    "  greedy = greedy_mode\n",
    "  temp = temperature\n",
    "  for j,stk in enumerate(stks):\n",
    "    i = j+1  \n",
    "    dta = pad_batch(sample_model,np.array([[stk]]),1)\n",
    "    if not model.hps.conditional:\n",
    "      feed = {\n",
    "          model.input_x: prev_x,\n",
    "          model.sequence_lengths: [1],\n",
    "          model.initial_state: prev_state,\n",
    "          model.input_data: dta\n",
    "      }\n",
    "    else:\n",
    "      feed = {\n",
    "          model.input_x: prev_x,\n",
    "          model.sequence_lengths: [1],\n",
    "          model.initial_state: prev_state,\n",
    "          model.batch_z: z,\n",
    "          model.input_data: dta\n",
    "      }\n",
    "\n",
    "    params = sess.run([\n",
    "        model.pi, model.mu1, model.mu2, model.sigma1, model.sigma2, model.corr,\n",
    "        model.pen, model.final_state\n",
    "    ], feed)\n",
    "\n",
    "    [o_pi, o_mu1, o_mu2, o_sigma1, o_sigma2, o_corr, o_pen, next_state] = params\n",
    "\n",
    "    idx = get_pi_idx(random.random(), o_pi[0], temp, greedy)\n",
    "\n",
    "    idx_eos = get_pi_idx(random.random(), o_pen[0], temp, greedy)\n",
    "    eos = [0, 0, 0]\n",
    "    eos[idx_eos] = 1\n",
    "\n",
    "    next_x1, next_x2 = sample_gaussian_2d(o_mu1[0][idx], o_mu2[0][idx],\n",
    "                                          o_sigma1[0][idx], o_sigma2[0][idx],\n",
    "                                          o_corr[0][idx], np.sqrt(temp), greedy)\n",
    "\n",
    "    params = [\n",
    "        o_pi[0], o_mu1[0], o_mu2[0], o_sigma1[0], o_sigma2[0], o_corr[0],\n",
    "        o_pen[0]\n",
    "    ]\n",
    "\n",
    "    mixture_params.append(params)\n",
    "\n",
    "    prev_x = np.zeros((1, 1, 5), dtype=np.float32)\n",
    "    prev_x[0][0] = np.array(\n",
    "        [next_x1, next_x2, eos[0], eos[1], eos[2]], dtype=np.float32)\n",
    "    prev_state = next_state\n",
    "\n",
    "  for i in range(seq_len):\n",
    "    if not model.hps.conditional:\n",
    "      feed = {\n",
    "          model.input_x: prev_x,\n",
    "          model.sequence_lengths: [1],\n",
    "          model.initial_state: prev_state\n",
    "      }\n",
    "    else:\n",
    "      feed = {\n",
    "          model.input_x: prev_x,\n",
    "          model.sequence_lengths: [1],\n",
    "          model.initial_state: prev_state,\n",
    "          model.batch_z: z\n",
    "      }\n",
    "\n",
    "    params = sess.run([\n",
    "        model.pi, model.mu1, model.mu2, model.sigma1, model.sigma2, model.corr,\n",
    "        model.pen, model.final_state\n",
    "    ], feed)\n",
    "\n",
    "    [o_pi, o_mu1, o_mu2, o_sigma1, o_sigma2, o_corr, o_pen, next_state] = params\n",
    "\n",
    "    idx = get_pi_idx(random.random(), o_pi[0], temp, greedy)\n",
    "\n",
    "    idx_eos = get_pi_idx(random.random(), o_pen[0], temp, greedy)\n",
    "    eos = [0, 0, 0]\n",
    "    eos[idx_eos] = 1\n",
    "\n",
    "    next_x1, next_x2 = sample_gaussian_2d(o_mu1[0][idx], o_mu2[0][idx],\n",
    "                                          o_sigma1[0][idx], o_sigma2[0][idx],\n",
    "                                          o_corr[0][idx], np.sqrt(temp), greedy)\n",
    "\n",
    "    strokes[i, :] = [next_x1, next_x2, eos[0], eos[1], eos[2]]\n",
    "\n",
    "    params = [\n",
    "        o_pi[0], o_mu1[0], o_mu2[0], o_sigma1[0], o_sigma2[0], o_corr[0],\n",
    "        o_pen[0]\n",
    "    ]\n",
    "\n",
    "    mixture_params.append(params)\n",
    "\n",
    "    prev_x = np.zeros((1, 1, 5), dtype=np.float32)\n",
    "    prev_x[0][0] = np.array(\n",
    "        [next_x1, next_x2, eos[0], eos[1], eos[2]], dtype=np.float32)\n",
    "    prev_state = next_state\n",
    "  return strokes, mixture_params\n",
    "\n",
    "import random\n",
    "def decode(z_input=None, draw_mode=True, temperature=0.1, factor=0.1, seq_len=eval_model.hps.max_seq_len):\n",
    "  z = None\n",
    "  if z_input is not None:\n",
    "    z = [z_input]\n",
    "  sample_strokes, m = sample(sess, sample_model, seq_len=seq_len, temperature=temperature, z=z, stks=stks)\n",
    "\n",
    "  strokes = to_normal_strokes(sample_strokes)\n",
    "  strokes[-1][2] = 1\n",
    "  enc_strokes = to_normal_strokes(np.array(stks))\n",
    "\n",
    "  # print(strokes.shape)\n",
    "  # print(enc_strokes.shape)\n",
    "  everything = np.concatenate((strokes,TEST_LINE),0)\n",
    "\n",
    "  if draw_mode:\n",
    "    draw_strokes(strokes, factor)\n",
    "    draw_strokes(TEST_LINE, factor, c=\"red\")\n",
    "    draw_strokes(everything, factor)\n",
    "  return strokes\n"
   ]
  },
  {
   "cell_type": "code",
   "execution_count": 49,
   "metadata": {},
   "outputs": [],
   "source": [
    "# _ = decode(z, temperature=0.3, seq_len=50, factor=0.2)"
   ]
  },
  {
   "cell_type": "code",
   "execution_count": 50,
   "metadata": {},
   "outputs": [],
   "source": [
    "# _ = decode(z, temperature=0.3, seq_len=50, factor=0.01)"
   ]
  },
  {
   "source": [
    "## Coordinates to stroke3 and back"
   ],
   "cell_type": "markdown",
   "metadata": {}
  },
  {
   "cell_type": "code",
   "execution_count": 94,
   "metadata": {},
   "outputs": [],
   "source": [
    "coord = [[[304.0133779264214, 255.35117056856186],[309.03010033444815, 255.35117056856186], [321.0702341137124, 256.3545150501672], [332.10702341137124, 257.3578595317726], [345.1505016722408, 257.3578595317726], [351.17056856187287, 257.3578595317726], [356.18729096989966, 257.3578595317726], [358.19397993311037, 257.3578595317726], [360.2006688963211, 256.3545150501672], [360.2006688963211, 253.34448160535115], [360.2006688963211, 246.3210702341137], [360.2006688963211, 237.29096989966555], [358.19397993311037, 226.25418060200667], [355.1839464882943, 218.22742474916387], [349.1638795986622, 211.2040133779264], [344.1471571906354, 205.1839464882943], [336.12040133779266, 201.1705685618729], [331.10367892976586, 200.16722408026754], [326.0869565217391, 200.16722408026754], [322.0735785953177, 200.16722408026754], [318.0602006688963, 203.1772575250836], [316.0535117056856, 209.19732441471572], [315.05016722408027, 218.22742474916387], [313.04347826086956, 246.3210702341137], [313.04347826086956, 273.4113712374582], [313.04347826086956, 304.51505016722405], [313.04347826086956, 325.58528428093643], [313.04347826086956, 353.67892976588627], [311.03678929765886, 373.7458193979933], [307.02341137123744, 385.7859531772575], [303.01003344481603, 395.81939799331104], [294.9832775919732, 403.8461538461538], [284.94983277591973, 410.8695652173913], [270.9030100334448, 415.88628762541805], [255.85284280936455, 418.8963210702341], [241.80602006688963, 418.8963210702341], [229.76588628762542, 418.8963210702341], [219.7324414715719, 413.87959866220734], [213.7123745819398, 409.86622073578593], [205.68561872909697, 401.8394648829431], [202.67558528428094, 395.81939799331104], [201.6722408026756, 390.80267558528425], [200.66889632107024, 386.78929765886284], [200.66889632107024, 381.7725752508361], [202.67558528428094, 377.7591973244147], [208.69565217391303, 374.74916387959865], [215.7190635451505, 371.7391304347826], [224.74916387959865, 370.73578595317724], [230.76923076923077, 370.73578595317724], [235.7859531772575, 370.73578595317724], [238.79598662207357, 370.73578595317724], [239.79933110367892, 370.73578595317724]]]"
   ]
  },
  {
   "cell_type": "code",
   "execution_count": 97,
   "metadata": {},
   "outputs": [],
   "source": [
    "coord = [[[204.68227424749162, 368.72909698996654], [204.68227424749162, 368.72909698996654], [204.68227424749162, 368.72909698996654], [204.68227424749162, 368.72909698996654], [204.68227424749162, 367.7257525083612], [204.68227424749162, 356.68896321070235], [204.68227424749162, 345.65217391304344], [204.68227424749162, 330.6020066889632], [204.68227424749162, 317.5585284280936], [204.68227424749162, 313.54515050167225], [204.68227424749162, 311.53846153846155], [204.68227424749162, 311.53846153846155], [204.68227424749162, 311.53846153846155], [204.68227424749162, 311.53846153846155], [205.68561872909697, 311.53846153846155], [212.70903010033445, 313.54515050167225], [223.7458193979933, 317.5585284280936], [239.79933110367892, 324.5819397993311], [250.83612040133778, 328.5953177257525], [264.8829431438127, 333.61204013377926], [268.8963210702341, 334.6153846153846], [271.90635451505017, 335.61872909698997], [271.90635451505017, 335.61872909698997], [271.90635451505017, 335.61872909698997], [271.90635451505017, 335.61872909698997], [271.90635451505017, 335.61872909698997], [271.90635451505017, 335.61872909698997], [271.90635451505017, 333.61204013377926], [269.89966555183946, 326.5886287625418], [267.89297658862876, 316.5551839464883], [264.8829431438127, 302.50836120401334], [263.87959866220734, 293.4782608695652], [262.876254180602, 283.4448160535117], [262.876254180602, 277.4247491638796], [262.876254180602, 274.4147157190635], [262.876254180602, 272.40802675585286], [262.876254180602, 272.40802675585286], [262.876254180602, 272.40802675585286], [262.876254180602, 272.40802675585286], [266.8896321070234, 272.40802675585286], [276.9230769230769, 274.4147157190635], [286.95652173913044, 277.4247491638796], [295.9866220735786, 279.4314381270903], [297.9933110367893, 280.4347826086956], [310.0334448160535, 283.4448160535117], [315.05016722408027, 284.44816053511704], [319.0635451505017, 286.45484949832775], [321.0702341137124, 286.45484949832775], [321.0702341137124, 287.4581939799331], [322.0735785953177, 287.4581939799331], [322.0735785953177, 287.4581939799331], [322.0735785953177, 287.4581939799331], [322.0735785953177, 287.4581939799331], [321.0702341137124, 285.4515050167224], [319.0635451505017, 281.438127090301], [316.0535117056856, 272.40802675585286], [311.03678929765886, 249.33110367892976], [310.0334448160535, 238.2943143812709], [310.0334448160535, 232.2742474916388], [309.03010033444815, 223.24414715719064], [309.03010033444815, 217.22408026755852], [309.03010033444815, 216.22073578595317], [309.03010033444815, 214.21404682274246], [309.03010033444815, 214.21404682274246], [309.03010033444815, 214.21404682274246], [309.03010033444815, 214.21404682274246], [310.0334448160535, 214.21404682274246], [311.03678929765886, 215.2173913043478], [315.05016722408027, 217.22408026755852], [321.0702341137124, 220.23411371237458], [331.10367892976586, 225.25083612040132], [342.1404682274247, 230.26755852842808], [348.16053511705684, 233.27759197324414], [355.1839464882943, 236.2876254180602], [359.1973244147157, 239.29765886287623], [362.2073578595318, 240.3010033444816], [364.2140468227425, 241.30434782608694], [365.2173913043478, 242.3076923076923], [366.22073578595314, 243.31103678929765], [366.22073578595314, 243.31103678929765], [366.22073578595314, 243.31103678929765], [366.22073578595314, 243.31103678929765], [366.22073578595314, 243.31103678929765], [366.22073578595314, 243.31103678929765], [366.22073578595314, 243.31103678929765], [366.22073578595314, 243.31103678929765], [366.22073578595314, 243.31103678929765], [366.22073578595314, 243.31103678929765], [366.22073578595314, 243.31103678929765], [366.22073578595314, 243.31103678929765], [366.22073578595314, 244.314381270903], [366.22073578595314, 245.31772575250835]]]"
   ]
  },
  {
   "cell_type": "code",
   "execution_count": 98,
   "metadata": {},
   "outputs": [
    {
     "output_type": "execute_result",
     "data": {
      "text/plain": [
       "'40.936454849498325,73.7458193979933,40.936454849498325,73.7458193979933,40.936454849498325,73.7458193979933,40.936454849498325,73.7458193979933,40.936454849498325,73.54515050167224,40.936454849498325,71.33779264214047,40.936454849498325,69.13043478260869,40.936454849498325,66.12040133779263,40.936454849498325,63.51170568561872,40.936454849498325,62.70903010033445,40.936454849498325,62.30769230769231,40.936454849498325,62.30769230769231,40.936454849498325,62.30769230769231,40.936454849498325,62.30769230769231,41.137123745819395,62.30769230769231,42.541806020066886,62.70903010033445,44.74916387959866,63.51170568561872,47.95986622073578,64.91638795986623,50.16722408026756,65.7190635451505,52.97658862876254,66.72240802675586,53.77926421404682,66.92307692307692,54.381270903010034,67.123745819398,54.381270903010034,67.123745819398,54.381270903010034,67.123745819398,54.381270903010034,67.123745819398,54.381270903010034,67.123745819398,54.381270903010034,67.123745819398,54.381270903010034,66.72240802675586,53.979933110367895,65.31772575250837,53.57859531772575,63.31103678929766,52.97658862876254,60.50167224080267,52.775919732441466,58.69565217391304,52.575250836120404,56.68896321070234,52.575250836120404,55.48494983277592,52.575250836120404,54.8829431438127,52.575250836120404,54.48160535117057,52.575250836120404,54.48160535117057,52.575250836120404,54.48160535117057,52.575250836120404,54.48160535117057,53.37792642140467,54.48160535117057,55.38461538461538,54.8829431438127,57.391304347826086,55.48494983277592,59.197324414715716,55.88628762541806,59.59866220735786,56.086956521739125,62.00668896321069,56.68896321070234,63.01003344481605,56.88963210702341,63.812709030100336,57.29096989966555,64.21404682274247,57.29096989966555,64.21404682274247,57.491638795986624,64.41471571906354,57.491638795986624,64.41471571906354,57.491638795986624,64.41471571906354,57.491638795986624,64.41471571906354,57.491638795986624,64.21404682274247,57.090301003344486,63.812709030100336,56.2876254180602,63.21070234113712,54.48160535117057,62.20735785953177,49.86622073578595,62.00668896321069,47.65886287625418,62.00668896321069,46.45484949832776,61.80602006688963,44.64882943143813,61.80602006688963,43.4448160535117,61.80602006688963,43.24414715719063,61.80602006688963,42.84280936454849,61.80602006688963,42.84280936454849,61.80602006688963,42.84280936454849,61.80602006688963,42.84280936454849,62.00668896321069,42.84280936454849,62.20735785953177,43.04347826086956,63.01003344481605,43.4448160535117,64.21404682274247,44.046822742474916,66.22073578595317,45.05016722408026,68.42809364548495,46.053511705685615,69.63210702341136,46.65551839464883,71.03678929765886,47.25752508361204,71.83946488294313,47.859531772575245,72.44147157190636,48.060200668896314,72.8428093645485,48.26086956521739,73.04347826086956,48.46153846153846,73.24414715719062,48.66220735785953,73.24414715719062,48.66220735785953,73.24414715719062,48.66220735785953,73.24414715719062,48.66220735785953,73.24414715719062,48.66220735785953,73.24414715719062,48.66220735785953,73.24414715719062,48.66220735785953,73.24414715719062,48.66220735785953,73.24414715719062,48.66220735785953,73.24414715719062,48.66220735785953,73.24414715719062,48.66220735785953,73.24414715719062,48.66220735785953,73.24414715719062,48.8628762541806,73.24414715719062,49.06354515050167'"
      ]
     },
     "metadata": {},
     "execution_count": 98
    }
   ],
   "source": [
    "c = np.array(coord).astype(np.float)/5\n",
    "a = list(c.flatten())\n",
    "a = [str(x) for x in a]\n",
    "coord = \",\".join(a)\n",
    "coord"
   ]
  },
  {
   "cell_type": "code",
   "execution_count": 60,
   "metadata": {},
   "outputs": [
    {
     "output_type": "error",
     "ename": "UnidentifiedImageError",
     "evalue": "cannot identify image file '/Users/bhavika/Desktop/eai/cocreative-drawing/ml_agent/sample.svg'",
     "traceback": [
      "\u001b[0;31m---------------------------------------------------------------------------\u001b[0m",
      "\u001b[0;31mUnidentifiedImageError\u001b[0m                    Traceback (most recent call last)",
      "\u001b[0;32m<ipython-input-60-1bb3cefef30d>\u001b[0m in \u001b[0;36m<module>\u001b[0;34m\u001b[0m\n\u001b[1;32m      5\u001b[0m \u001b[0;32mimport\u001b[0m \u001b[0mipyplot\u001b[0m\u001b[0;34m\u001b[0m\u001b[0;34m\u001b[0m\u001b[0m\n\u001b[1;32m      6\u001b[0m \u001b[0;34m\u001b[0m\u001b[0m\n\u001b[0;32m----> 7\u001b[0;31m ipyplot.plot_images(\n\u001b[0m\u001b[1;32m      8\u001b[0m     \u001b[0;34m[\u001b[0m\u001b[0mfinal_path\u001b[0m\u001b[0;34m]\u001b[0m\u001b[0;34m,\u001b[0m \u001b[0;31m# images should be passed in as an array\u001b[0m\u001b[0;34m\u001b[0m\u001b[0;34m\u001b[0m\u001b[0m\n\u001b[1;32m      9\u001b[0m     \u001b[0mimg_width\u001b[0m\u001b[0;34m=\u001b[0m\u001b[0;36m250\u001b[0m\u001b[0;34m,\u001b[0m\u001b[0;34m\u001b[0m\u001b[0;34m\u001b[0m\u001b[0m\n",
      "\u001b[0;32m~/opt/miniconda3/lib/python3.8/site-packages/ipyplot/_plotting.py\u001b[0m in \u001b[0;36mplot_images\u001b[0;34m(images, labels, custom_texts, max_images, img_width, zoom_scale, force_b64)\u001b[0m\n\u001b[1;32m    135\u001b[0m     \u001b[0mcustom_texts\u001b[0m \u001b[0;34m=\u001b[0m \u001b[0m_np\u001b[0m\u001b[0;34m.\u001b[0m\u001b[0masarray\u001b[0m\u001b[0;34m(\u001b[0m\u001b[0mcustom_texts\u001b[0m\u001b[0;34m)\u001b[0m \u001b[0;32mif\u001b[0m \u001b[0mcustom_texts\u001b[0m \u001b[0;32mis\u001b[0m \u001b[0;32mnot\u001b[0m \u001b[0;32mNone\u001b[0m \u001b[0;32melse\u001b[0m \u001b[0mcustom_texts\u001b[0m  \u001b[0;31m# NOQA E501\u001b[0m\u001b[0;34m\u001b[0m\u001b[0;34m\u001b[0m\u001b[0m\n\u001b[1;32m    136\u001b[0m \u001b[0;34m\u001b[0m\u001b[0m\n\u001b[0;32m--> 137\u001b[0;31m     html = _create_imgs_grid(\n\u001b[0m\u001b[1;32m    138\u001b[0m         \u001b[0mimages\u001b[0m\u001b[0;34m=\u001b[0m\u001b[0mimages\u001b[0m\u001b[0;34m,\u001b[0m\u001b[0;34m\u001b[0m\u001b[0;34m\u001b[0m\u001b[0m\n\u001b[1;32m    139\u001b[0m         \u001b[0mlabels\u001b[0m\u001b[0;34m=\u001b[0m\u001b[0mlabels\u001b[0m\u001b[0;34m,\u001b[0m\u001b[0;34m\u001b[0m\u001b[0;34m\u001b[0m\u001b[0m\n",
      "\u001b[0;32m~/opt/miniconda3/lib/python3.8/site-packages/ipyplot/_html_helpers.py\u001b[0m in \u001b[0;36m_create_imgs_grid\u001b[0;34m(images, labels, custom_texts, max_images, img_width, zoom_scale, force_b64)\u001b[0m\n\u001b[1;32m    357\u001b[0m \u001b[0;34m\u001b[0m\u001b[0m\n\u001b[1;32m    358\u001b[0m     \u001b[0mhtml\u001b[0m \u001b[0;34m+=\u001b[0m \u001b[0;34m'<div id=\"ipyplot-imgs-container-div-%s\">'\u001b[0m \u001b[0;34m%\u001b[0m \u001b[0mgrid_style_uuid\u001b[0m\u001b[0;34m\u001b[0m\u001b[0;34m\u001b[0m\u001b[0m\n\u001b[0;32m--> 359\u001b[0;31m     html += ''.join([\n\u001b[0m\u001b[1;32m    360\u001b[0m         _create_img(\n\u001b[1;32m    361\u001b[0m             \u001b[0mx\u001b[0m\u001b[0;34m,\u001b[0m \u001b[0mwidth\u001b[0m\u001b[0;34m=\u001b[0m\u001b[0mimg_width\u001b[0m\u001b[0;34m,\u001b[0m \u001b[0mlabel\u001b[0m\u001b[0;34m=\u001b[0m\u001b[0my\u001b[0m\u001b[0;34m,\u001b[0m\u001b[0;34m\u001b[0m\u001b[0;34m\u001b[0m\u001b[0m\n",
      "\u001b[0;32m~/opt/miniconda3/lib/python3.8/site-packages/ipyplot/_html_helpers.py\u001b[0m in \u001b[0;36m<listcomp>\u001b[0;34m(.0)\u001b[0m\n\u001b[1;32m    358\u001b[0m     \u001b[0mhtml\u001b[0m \u001b[0;34m+=\u001b[0m \u001b[0;34m'<div id=\"ipyplot-imgs-container-div-%s\">'\u001b[0m \u001b[0;34m%\u001b[0m \u001b[0mgrid_style_uuid\u001b[0m\u001b[0;34m\u001b[0m\u001b[0;34m\u001b[0m\u001b[0m\n\u001b[1;32m    359\u001b[0m     html += ''.join([\n\u001b[0;32m--> 360\u001b[0;31m         _create_img(\n\u001b[0m\u001b[1;32m    361\u001b[0m             \u001b[0mx\u001b[0m\u001b[0;34m,\u001b[0m \u001b[0mwidth\u001b[0m\u001b[0;34m=\u001b[0m\u001b[0mimg_width\u001b[0m\u001b[0;34m,\u001b[0m \u001b[0mlabel\u001b[0m\u001b[0;34m=\u001b[0m\u001b[0my\u001b[0m\u001b[0;34m,\u001b[0m\u001b[0;34m\u001b[0m\u001b[0;34m\u001b[0m\u001b[0m\n\u001b[1;32m    362\u001b[0m             \u001b[0mgrid_style_uuid\u001b[0m\u001b[0;34m=\u001b[0m\u001b[0mgrid_style_uuid\u001b[0m\u001b[0;34m,\u001b[0m\u001b[0;34m\u001b[0m\u001b[0;34m\u001b[0m\u001b[0m\n",
      "\u001b[0;32m~/opt/miniconda3/lib/python3.8/site-packages/ipyplot/_html_helpers.py\u001b[0m in \u001b[0;36m_create_img\u001b[0;34m(image, label, width, grid_style_uuid, custom_text, force_b64)\u001b[0m\n\u001b[1;32m    284\u001b[0m     \u001b[0;31m# that's why it's necessary to use conversion to b64\u001b[0m\u001b[0;34m\u001b[0m\u001b[0;34m\u001b[0m\u001b[0;34m\u001b[0m\u001b[0m\n\u001b[1;32m    285\u001b[0m     \u001b[0;32mif\u001b[0m \u001b[0muse_b64\u001b[0m\u001b[0;34m:\u001b[0m\u001b[0;34m\u001b[0m\u001b[0;34m\u001b[0m\u001b[0m\n\u001b[0;32m--> 286\u001b[0;31m         \u001b[0mimg_html\u001b[0m \u001b[0;34m+=\u001b[0m \u001b[0;34m'<img src=\"data:image/png;base64,%s\"/>'\u001b[0m \u001b[0;34m%\u001b[0m \u001b[0m_img_to_base64\u001b[0m\u001b[0;34m(\u001b[0m\u001b[0mimage\u001b[0m\u001b[0;34m,\u001b[0m \u001b[0mwidth\u001b[0m\u001b[0;34m)\u001b[0m  \u001b[0;31m# NOQA E501\u001b[0m\u001b[0;34m\u001b[0m\u001b[0;34m\u001b[0m\u001b[0m\n\u001b[0m\u001b[1;32m    287\u001b[0m \u001b[0;34m\u001b[0m\u001b[0m\n\u001b[1;32m    288\u001b[0m     html = \"\"\"\n",
      "\u001b[0;32m~/opt/miniconda3/lib/python3.8/site-packages/ipyplot/_img_helpers.py\u001b[0m in \u001b[0;36m_img_to_base64\u001b[0;34m(image, target_width)\u001b[0m\n\u001b[1;32m     84\u001b[0m             \u001b[0mimage\u001b[0m \u001b[0;34m=\u001b[0m \u001b[0mPIL\u001b[0m\u001b[0;34m.\u001b[0m\u001b[0mImage\u001b[0m\u001b[0;34m.\u001b[0m\u001b[0mfromarray\u001b[0m\u001b[0;34m(\u001b[0m\u001b[0mimage\u001b[0m\u001b[0;34m)\u001b[0m\u001b[0;34m\u001b[0m\u001b[0;34m\u001b[0m\u001b[0m\n\u001b[1;32m     85\u001b[0m     \u001b[0;32melif\u001b[0m \u001b[0mtype\u001b[0m\u001b[0;34m(\u001b[0m\u001b[0mimage\u001b[0m\u001b[0;34m)\u001b[0m \u001b[0;32mis\u001b[0m \u001b[0mstr\u001b[0m \u001b[0;32mor\u001b[0m \u001b[0mtype\u001b[0m\u001b[0;34m(\u001b[0m\u001b[0mimage\u001b[0m\u001b[0;34m)\u001b[0m \u001b[0;32mis\u001b[0m \u001b[0mstr_\u001b[0m\u001b[0;34m:\u001b[0m\u001b[0;34m\u001b[0m\u001b[0;34m\u001b[0m\u001b[0m\n\u001b[0;32m---> 86\u001b[0;31m         \u001b[0mimage\u001b[0m \u001b[0;34m=\u001b[0m \u001b[0mPIL\u001b[0m\u001b[0;34m.\u001b[0m\u001b[0mImage\u001b[0m\u001b[0;34m.\u001b[0m\u001b[0mopen\u001b[0m\u001b[0;34m(\u001b[0m\u001b[0mimage\u001b[0m\u001b[0;34m)\u001b[0m\u001b[0;34m\u001b[0m\u001b[0;34m\u001b[0m\u001b[0m\n\u001b[0m\u001b[1;32m     87\u001b[0m \u001b[0;34m\u001b[0m\u001b[0m\n\u001b[1;32m     88\u001b[0m     \u001b[0;31m# rescale image based on target_width\u001b[0m\u001b[0;34m\u001b[0m\u001b[0;34m\u001b[0m\u001b[0;34m\u001b[0m\u001b[0m\n",
      "\u001b[0;32m~/opt/miniconda3/lib/python3.8/site-packages/PIL/Image.py\u001b[0m in \u001b[0;36mopen\u001b[0;34m(fp, mode, formats)\u001b[0m\n\u001b[1;32m   2956\u001b[0m     \u001b[0;32mfor\u001b[0m \u001b[0mmessage\u001b[0m \u001b[0;32min\u001b[0m \u001b[0maccept_warnings\u001b[0m\u001b[0;34m:\u001b[0m\u001b[0;34m\u001b[0m\u001b[0;34m\u001b[0m\u001b[0m\n\u001b[1;32m   2957\u001b[0m         \u001b[0mwarnings\u001b[0m\u001b[0;34m.\u001b[0m\u001b[0mwarn\u001b[0m\u001b[0;34m(\u001b[0m\u001b[0mmessage\u001b[0m\u001b[0;34m)\u001b[0m\u001b[0;34m\u001b[0m\u001b[0;34m\u001b[0m\u001b[0m\n\u001b[0;32m-> 2958\u001b[0;31m     raise UnidentifiedImageError(\n\u001b[0m\u001b[1;32m   2959\u001b[0m         \u001b[0;34m\"cannot identify image file %r\"\u001b[0m \u001b[0;34m%\u001b[0m \u001b[0;34m(\u001b[0m\u001b[0mfilename\u001b[0m \u001b[0;32mif\u001b[0m \u001b[0mfilename\u001b[0m \u001b[0;32melse\u001b[0m \u001b[0mfp\u001b[0m\u001b[0;34m)\u001b[0m\u001b[0;34m\u001b[0m\u001b[0;34m\u001b[0m\u001b[0m\n\u001b[1;32m   2960\u001b[0m     )\n",
      "\u001b[0;31mUnidentifiedImageError\u001b[0m: cannot identify image file '/Users/bhavika/Desktop/eai/cocreative-drawing/ml_agent/sample.svg'"
     ]
    }
   ],
   "source": [
    "svg = draw_strokes(np.array(TEST_LINE))\n",
    "final_path = \"/Users/bhavika/Desktop/eai/cocreative-drawing/ml_agent/sample.svg\"\n",
    "with open(final_path,'w') as f:\n",
    "    f.write(svg)\n",
    "import ipyplot\n",
    "\n",
    "ipyplot.plot_images(\n",
    "    [final_path], # images should be passed in as an array\n",
    "    img_width=250,\n",
    "    force_b64=True # this is important to be able to render the image correctly on GitHub\n",
    ")"
   ]
  },
  {
   "cell_type": "code",
   "execution_count": 48,
   "metadata": {},
   "outputs": [
    {
     "output_type": "execute_result",
     "data": {
      "text/plain": [
       "array([[292.97658863, 579.43143813,   1.        ],\n",
       "       [292.97658863, 579.43143813,   0.        ],\n",
       "       [292.97658863, 579.43143813,   0.        ],\n",
       "       [292.97658863, 579.43143813,   1.        ],\n",
       "       [292.97658863, 579.43143813,   0.        ],\n",
       "       [292.97658863, 579.43143813,   0.        ]])"
      ]
     },
     "metadata": {},
     "execution_count": 48
    }
   ],
   "source": [
    "import numpy as np\n",
    "sts = []\n",
    "for _,line in enumerate(coord):\n",
    "    for i,x in enumerate(line):\n",
    "        p = 0\n",
    "        if i == 0:\n",
    "            p = 1\n",
    "        sts.append([x[0],x[1],p])\n",
    "sts = np.array(sts)\n",
    "sts"
   ]
  },
  {
   "cell_type": "code",
   "execution_count": 49,
   "metadata": {},
   "outputs": [
    {
     "output_type": "display_data",
     "data": {
      "text/plain": "<IPython.core.display.SVG object>",
      "image/svg+xml": "<svg xmlns=\"http://www.w3.org/2000/svg\" xmlns:ev=\"http://www.w3.org/2001/xml-events\" xmlns:xlink=\"http://www.w3.org/1999/xlink\" baseProfile=\"full\" height=\"373.8294314381271\" version=\"1.1\" width=\"287.89297658862876\"><defs/><rect fill=\"white\" height=\"373.8294314381271\" width=\"287.89297658862876\" x=\"0\" y=\"0\"/><path d=\"M100,100 m14.648829431438127,28.971571906354512 m14.648829431438127,28.971571906354512 l14.648829431438127,28.971571906354512 14.648829431438127,28.971571906354512 m14.648829431438127,28.971571906354512 l14.648829431438127,28.971571906354512 \" fill=\"none\" stroke=\"red\" stroke-width=\"1\"/></svg>"
     },
     "metadata": {}
    }
   ],
   "source": [
    "draw_strokes(sts, factor=20, c=\"red\")"
   ]
  },
  {
   "cell_type": "code",
   "execution_count": null,
   "metadata": {},
   "outputs": [],
   "source": []
  }
 ]
}